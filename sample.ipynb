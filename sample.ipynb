{
 "cells": [
  {
   "cell_type": "code",
   "execution_count": 1,
   "metadata": {},
   "outputs": [
    {
     "name": "stdout",
     "output_type": "stream",
     "text": [
      "Requirement already satisfied: skorch in /opt/homebrew/lib/python3.11/site-packages (0.15.0)\n",
      "Requirement already satisfied: pytorch_lightning in /opt/homebrew/lib/python3.11/site-packages (2.2.0)\n",
      "Requirement already satisfied: einops in /opt/homebrew/lib/python3.11/site-packages (0.7.0)\n",
      "Requirement already satisfied: numpy>=1.13.3 in /opt/homebrew/lib/python3.11/site-packages (from skorch) (1.24.3)\n",
      "Requirement already satisfied: scikit-learn>=0.22.0 in /opt/homebrew/lib/python3.11/site-packages (from skorch) (1.2.2)\n",
      "Requirement already satisfied: scipy>=1.1.0 in /opt/homebrew/lib/python3.11/site-packages (from skorch) (1.10.1)\n",
      "Requirement already satisfied: tabulate>=0.7.7 in /opt/homebrew/lib/python3.11/site-packages (from skorch) (0.9.0)\n",
      "Requirement already satisfied: tqdm>=4.14.0 in /opt/homebrew/lib/python3.11/site-packages (from skorch) (4.65.0)\n",
      "Requirement already satisfied: torch>=1.13.0 in /opt/homebrew/lib/python3.11/site-packages (from pytorch_lightning) (2.0.1)\n",
      "Requirement already satisfied: PyYAML>=5.4 in /opt/homebrew/lib/python3.11/site-packages (from pytorch_lightning) (6.0)\n",
      "Requirement already satisfied: fsspec>=2022.5.0 in /opt/homebrew/lib/python3.11/site-packages (from fsspec[http]>=2022.5.0->pytorch_lightning) (2023.5.0)\n",
      "Requirement already satisfied: torchmetrics>=0.7.0 in /opt/homebrew/lib/python3.11/site-packages (from pytorch_lightning) (1.3.0.post0)\n",
      "Requirement already satisfied: packaging>=20.0 in /opt/homebrew/lib/python3.11/site-packages (from pytorch_lightning) (23.1)\n",
      "Requirement already satisfied: typing-extensions>=4.4.0 in /opt/homebrew/lib/python3.11/site-packages (from pytorch_lightning) (4.5.0)\n",
      "Requirement already satisfied: lightning-utilities>=0.8.0 in /opt/homebrew/lib/python3.11/site-packages (from pytorch_lightning) (0.10.1)\n",
      "Requirement already satisfied: requests in /opt/homebrew/lib/python3.11/site-packages (from fsspec[http]>=2022.5.0->pytorch_lightning) (2.28.1)\n",
      "Requirement already satisfied: aiohttp!=4.0.0a0,!=4.0.0a1 in /opt/homebrew/lib/python3.11/site-packages (from fsspec[http]>=2022.5.0->pytorch_lightning) (3.8.4)\n",
      "Requirement already satisfied: setuptools in /opt/homebrew/lib/python3.11/site-packages (from lightning-utilities>=0.8.0->pytorch_lightning) (68.2.2)\n",
      "Requirement already satisfied: joblib>=1.1.1 in /opt/homebrew/lib/python3.11/site-packages (from scikit-learn>=0.22.0->skorch) (1.2.0)\n",
      "Requirement already satisfied: threadpoolctl>=2.0.0 in /opt/homebrew/lib/python3.11/site-packages (from scikit-learn>=0.22.0->skorch) (3.1.0)\n",
      "Requirement already satisfied: filelock in /opt/homebrew/lib/python3.11/site-packages (from torch>=1.13.0->pytorch_lightning) (3.12.0)\n",
      "Requirement already satisfied: sympy in /opt/homebrew/lib/python3.11/site-packages (from torch>=1.13.0->pytorch_lightning) (1.12)\n",
      "Requirement already satisfied: networkx in /opt/homebrew/lib/python3.11/site-packages (from torch>=1.13.0->pytorch_lightning) (3.1)\n",
      "Requirement already satisfied: jinja2 in /opt/homebrew/lib/python3.11/site-packages (from torch>=1.13.0->pytorch_lightning) (3.1.2)\n",
      "Requirement already satisfied: attrs>=17.3.0 in /opt/homebrew/lib/python3.11/site-packages (from aiohttp!=4.0.0a0,!=4.0.0a1->fsspec[http]>=2022.5.0->pytorch_lightning) (23.1.0)\n",
      "Requirement already satisfied: charset-normalizer<4.0,>=2.0 in /opt/homebrew/lib/python3.11/site-packages (from aiohttp!=4.0.0a0,!=4.0.0a1->fsspec[http]>=2022.5.0->pytorch_lightning) (2.1.1)\n",
      "Requirement already satisfied: multidict<7.0,>=4.5 in /opt/homebrew/lib/python3.11/site-packages (from aiohttp!=4.0.0a0,!=4.0.0a1->fsspec[http]>=2022.5.0->pytorch_lightning) (6.0.4)\n",
      "Requirement already satisfied: async-timeout<5.0,>=4.0.0a3 in /opt/homebrew/lib/python3.11/site-packages (from aiohttp!=4.0.0a0,!=4.0.0a1->fsspec[http]>=2022.5.0->pytorch_lightning) (4.0.2)\n",
      "Requirement already satisfied: yarl<2.0,>=1.0 in /opt/homebrew/lib/python3.11/site-packages (from aiohttp!=4.0.0a0,!=4.0.0a1->fsspec[http]>=2022.5.0->pytorch_lightning) (1.9.2)\n",
      "Requirement already satisfied: frozenlist>=1.1.1 in /opt/homebrew/lib/python3.11/site-packages (from aiohttp!=4.0.0a0,!=4.0.0a1->fsspec[http]>=2022.5.0->pytorch_lightning) (1.3.3)\n",
      "Requirement already satisfied: aiosignal>=1.1.2 in /opt/homebrew/lib/python3.11/site-packages (from aiohttp!=4.0.0a0,!=4.0.0a1->fsspec[http]>=2022.5.0->pytorch_lightning) (1.3.1)\n",
      "Requirement already satisfied: MarkupSafe>=2.0 in /opt/homebrew/lib/python3.11/site-packages (from jinja2->torch>=1.13.0->pytorch_lightning) (2.1.2)\n",
      "Requirement already satisfied: idna<4,>=2.5 in /opt/homebrew/lib/python3.11/site-packages (from requests->fsspec[http]>=2022.5.0->pytorch_lightning) (3.4)\n",
      "Requirement already satisfied: urllib3<1.27,>=1.21.1 in /opt/homebrew/lib/python3.11/site-packages (from requests->fsspec[http]>=2022.5.0->pytorch_lightning) (1.26.15)\n",
      "Requirement already satisfied: certifi>=2017.4.17 in /opt/homebrew/lib/python3.11/site-packages (from requests->fsspec[http]>=2022.5.0->pytorch_lightning) (2022.12.7)\n",
      "Requirement already satisfied: mpmath>=0.19 in /opt/homebrew/lib/python3.11/site-packages (from sympy->torch>=1.13.0->pytorch_lightning) (1.3.0)\n",
      "\n",
      "\u001b[1m[\u001b[0m\u001b[34;49mnotice\u001b[0m\u001b[1;39;49m]\u001b[0m\u001b[39;49m A new release of pip is available: \u001b[0m\u001b[31;49m23.3.1\u001b[0m\u001b[39;49m -> \u001b[0m\u001b[32;49m24.0\u001b[0m\n",
      "\u001b[1m[\u001b[0m\u001b[34;49mnotice\u001b[0m\u001b[1;39;49m]\u001b[0m\u001b[39;49m To update, run: \u001b[0m\u001b[32;49mpython3.11 -m pip install --upgrade pip\u001b[0m\n"
     ]
    }
   ],
   "source": [
    "!pip install skorch pytorch_lightning einops"
   ]
  },
  {
   "cell_type": "code",
   "execution_count": 7,
   "metadata": {},
   "outputs": [],
   "source": [
    "import torch\n",
    "import torch.nn as nn\n",
    "import torch.nn.functional as F\n",
    "\n",
    "from torchvision import transforms\n",
    "from torchvision.datasets import MNIST\n",
    "\n",
    "\n",
    "def create_dataloader(batch_size):\n",
    "    data_train = torch.utils.data.DataLoader(\n",
    "        MNIST(\n",
    "            '~/mnist_data', train=True, download=True,\n",
    "            transform=transforms.Compose([\n",
    "                transforms.ToTensor()\n",
    "            ])),\n",
    "        batch_size=batch_size,\n",
    "        shuffle=True\n",
    "    )\n",
    "\n",
    "    data_test = torch.utils.data.DataLoader(\n",
    "        MNIST(\n",
    "            '~/mnist_data', train=False, download=True,\n",
    "            transform=transforms.Compose([\n",
    "                transforms.ToTensor()\n",
    "            ])),\n",
    "        batch_size=batch_size,\n",
    "        shuffle=True\n",
    "    )\n",
    "\n",
    "    return data_train, data_test\n"
   ]
  },
  {
   "cell_type": "code",
   "execution_count": 8,
   "metadata": {},
   "outputs": [],
   "source": [
    "batch_size = 64\n",
    "\n",
    "trainloader, testloader = create_dataloader(batch_size=batch_size)"
   ]
  },
  {
   "cell_type": "code",
   "execution_count": 9,
   "metadata": {},
   "outputs": [],
   "source": [
    "from s4.skorch import S4Regression\n",
    "\n",
    "model = S4Regression(\n",
    "    max_epochs=5,\n",
    "    optimizer=torch.optim.Adam,\n",
    "    lr=0.001,\n",
    "    batch_size=batch_size,\n",
    "    criterion=nn.NLLLoss,\n",
    "    d_input=1,\n",
    "    d_output=783,\n",
    "    d_model=512,\n",
    "    n_layers=8,\n",
    "    dropout=[0.2]*8,\n",
    "    transposed=False,\n",
    "    s4d=True,\n",
    ")"
   ]
  },
  {
   "cell_type": "code",
   "execution_count": 10,
   "metadata": {},
   "outputs": [
    {
     "data": {
      "text/plain": [
       "<class 's4.skorch.S4Regression'>[uninitialized](\n",
       "  module=SingleS4Regression(\n",
       "    (encoder): Sequential(\n",
       "      (0): Linear(in_features=1, out_features=512, bias=True)\n",
       "      (1): GELU(approximate='none')\n",
       "    )\n",
       "    (decoder): Sequential(\n",
       "      (0): Linear(in_features=512, out_features=783, bias=True)\n",
       "      (1): Tanh()\n",
       "    )\n",
       "  ),\n",
       ")"
      ]
     },
     "execution_count": 10,
     "metadata": {},
     "output_type": "execute_result"
    }
   ],
   "source": [
    "model"
   ]
  },
  {
   "cell_type": "code",
   "execution_count": 6,
   "metadata": {},
   "outputs": [
    {
     "name": "stdout",
     "output_type": "stream",
     "text": [
      "0 ======\n",
      "  epoch    train_loss    valid_loss     dur\n",
      "-------  ------------  ------------  ------\n",
      "      1        \u001b[36m0.0003\u001b[0m       \u001b[32m-0.0008\u001b[0m  8.5923\n",
      "      2       \u001b[36m-0.0008\u001b[0m       \u001b[32m-0.0018\u001b[0m  7.0440\n",
      "      3       \u001b[36m-0.0018\u001b[0m       \u001b[32m-0.0029\u001b[0m  6.7262\n",
      "      4       \u001b[36m-0.0029\u001b[0m       \u001b[32m-0.0039\u001b[0m  6.7487\n",
      "      5       \u001b[36m-0.0040\u001b[0m       \u001b[32m-0.0050\u001b[0m  6.7365\n",
      "1 ======\n",
      "Re-initializing module.\n",
      "Re-initializing criterion.\n",
      "Re-initializing optimizer.\n",
      "  epoch    train_loss    valid_loss     dur\n",
      "-------  ------------  ------------  ------\n",
      "      1       \u001b[36m-0.0051\u001b[0m       \u001b[32m-0.0062\u001b[0m  6.7107\n",
      "      2       \u001b[36m-0.0061\u001b[0m       \u001b[32m-0.0073\u001b[0m  6.7212\n",
      "      3       \u001b[36m-0.0072\u001b[0m       \u001b[32m-0.0083\u001b[0m  6.7184\n",
      "      4       \u001b[36m-0.0083\u001b[0m       \u001b[32m-0.0094\u001b[0m  6.6795\n",
      "      5       \u001b[36m-0.0094\u001b[0m       \u001b[32m-0.0104\u001b[0m  6.6822\n",
      "2 ======\n",
      "Re-initializing module.\n",
      "Re-initializing criterion.\n",
      "Re-initializing optimizer.\n",
      "  epoch    train_loss    valid_loss     dur\n",
      "-------  ------------  ------------  ------\n",
      "      1       \u001b[36m-0.0105\u001b[0m       \u001b[32m-0.0115\u001b[0m  6.7491\n",
      "      2       \u001b[36m-0.0115\u001b[0m       \u001b[32m-0.0126\u001b[0m  6.7167\n",
      "      3       \u001b[36m-0.0126\u001b[0m       \u001b[32m-0.0140\u001b[0m  6.6707\n",
      "      4       \u001b[36m-0.0137\u001b[0m       \u001b[32m-0.0147\u001b[0m  6.7421\n",
      "3 ======\n",
      "Re-initializing module.\n",
      "Re-initializing criterion.\n",
      "Re-initializing optimizer.\n",
      "  epoch    train_loss    valid_loss     dur\n",
      "-------  ------------  ------------  ------\n",
      "      1       \u001b[36m-0.0148\u001b[0m       \u001b[32m-0.0160\u001b[0m  7.3191\n"
     ]
    }
   ],
   "source": [
    "for idx, samples in enumerate(trainloader):\n",
    "    print(f\"{idx} ======\")\n",
    "    data, label = samples\n",
    "\n",
    "    data = data.reshape(batch_size, -1)\n",
    "    inputs = data[:, :-1].view(batch_size, -1, 1) #.cuda()\n",
    "    targets = data[:, 1:].view(batch_size, -1).type(torch.LongTensor) #.cuda()\n",
    "\n",
    "    # (batch_size, d_model, length)\n",
    "    model.fit(inputs, targets)\n",
    "    pred = model.predict(inputs)\n",
    "    # loss = F.mse_loss(targets, pred)\n",
    "    # print(\"loss \", loss.item())\n"
   ]
  },
  {
   "cell_type": "code",
   "execution_count": null,
   "metadata": {},
   "outputs": [],
   "source": []
  }
 ],
 "metadata": {
  "kernelspec": {
   "display_name": "Python 3",
   "language": "python",
   "name": "python3"
  },
  "language_info": {
   "codemirror_mode": {
    "name": "ipython",
    "version": 3
   },
   "file_extension": ".py",
   "mimetype": "text/x-python",
   "name": "python",
   "nbconvert_exporter": "python",
   "pygments_lexer": "ipython3",
   "version": "3.11.6"
  }
 },
 "nbformat": 4,
 "nbformat_minor": 2
}
